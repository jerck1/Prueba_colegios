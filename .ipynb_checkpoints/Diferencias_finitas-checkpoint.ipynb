{
 "cells": [
  {
   "cell_type": "markdown",
   "metadata": {},
   "source": [
    "# <center>Solución Puntos Prueba de Conocimientos</center>\n",
    "Nombre: John Erick Cabrera Ramirez"
   ]
  },
  {
   "cell_type": "markdown",
   "metadata": {},
   "source": [
    "# 2) Método de las Diferencias Finitas"
   ]
  },
  {
   "cell_type": "markdown",
   "metadata": {},
   "source": [
    "## En esta primera parte importamos las librerías que necesitaremos"
   ]
  },
  {
   "cell_type": "code",
   "execution_count": 46,
   "metadata": {},
   "outputs": [],
   "source": [
    "import numpy as np\n",
    "import matplotlib as plt"
   ]
  },
  {
   "cell_type": "markdown",
   "metadata": {},
   "source": [
    "* El siguiente comando es para numerar ecuaciones"
   ]
  },
  {
   "cell_type": "code",
   "execution_count": 2,
   "metadata": {},
   "outputs": [
    {
     "data": {
      "application/javascript": [
       "MathJax.Hub.Config({\n",
       "    TeX: { equationNumbers: { autoNumber: \"AMS\" } }\n",
       "});\n"
      ],
      "text/plain": [
       "<IPython.core.display.Javascript object>"
      ]
     },
     "metadata": {},
     "output_type": "display_data"
    }
   ],
   "source": [
    "%%javascript\n",
    "MathJax.Hub.Config({\n",
    "    TeX: { equationNumbers: { autoNumber: \"AMS\" } }\n",
    "});"
   ]
  },
  {
   "cell_type": "markdown",
   "metadata": {},
   "source": [
    "## Explicación del Método"
   ]
  },
  {
   "cell_type": "markdown",
   "metadata": {},
   "source": [
    "La aproximación en las series de Taylor de una función f(x) alrededor de $x$ usualmente mejora cuando añadimos cada vez más términos a la serie, sin embargo, si truncamos la serie a primer orden, obtenemos una aproximación que es el cociente de dos restas:\n",
    "\\begin{equation}\\label{eq:1}\n",
    "\\frac{\\mathrm{d}f}{\\mathrm{d}x}\\approx\\frac{f(x+h)-f(x)}{h},\n",
    "\\end{equation}\n",
    "Si truncamos la serie a segundo orden, obtenemos una aproximación de la segunda derivada:\n",
    "\\begin{equation}\\label{eq:2}\n",
    "\\frac{\\mathrm{d}^2f}{\\mathrm{d}x^2}\\approx\\frac{f(x+2h)-2f(x+h)+f(x)}{h^2},\n",
    "\\end{equation}\n",
    "donde todas las restas de la forma \n",
    "\\begin{equation}\\label{eq:3}\n",
    "f(x+b)-f(x+a),\n",
    "\\end{equation}\n",
    "se conocen como diferencias finitas, puesto que se pueden ver, por ejemplo a primer orden, como la aproximación de finita de los diferenciales de $\\mathrm{d}f$ y $\\mathrm{d}x$. \n",
    "El objetivo de hoy es aproximar los términos diferenciales de una ecuación diferenencial por este método para hallar su solución. Existen diversas diferencias finitas, la mencionada acá es la diferencia finita hacia adelante.\n",
    "\n",
    "Cada solución depende del tipo de ecuación diferencial, por esto tomaremos un ejemplo, lo resolvemos y sobre este resolvemos los coeficientes desconocidos:"
   ]
  },
  {
   "cell_type": "markdown",
   "metadata": {},
   "source": [
    "## Implementación del Método"
   ]
  },
  {
   "cell_type": "markdown",
   "metadata": {},
   "source": [
    "##### Sea \n",
    "\\begin{equation}\\label{eq:1}\n",
    "f''+bf'+cf=0\n",
    "\\end{equation}\n",
    "una ecuación diferencial con $b$,$c$ constantes. Puede ser la ecuación de un oscilador amortiguado. Aproximando a diferencias finitas:\n",
    "\\begin{equation}\\label{eq:2}\n",
    "\\frac{f(x+2h)-2f(x+h)+f(x)}{h^2}+b\\left(\\frac{f(x+h)-f(x)}{h}\\right)+cf=0\n",
    "\\end{equation}\n",
    "La idea es que dadas unas condiciones iniciales o de frontera, en este caso $(x_0,f(x_o))$, encontremos todos los valores valor de $f(x+2h)$, para esto despejamos $f(x+2h)$ de \\ref{eq:2}:\n",
    "\\begin{equation}\\label{eq:3}\n",
    "f(x+2h)=(-ch^2+bh-1)f(x)-(2+bh)f(x+h)\n",
    "\\end{equation}\n",
    "Para encontrar todos los valores, diremos que inicialmente $x=x_0$, $f(x)=f(x_0)=f_0$, $f'(x)=f'(x_0)=f'_0$, entonces:\n",
    "\\begin{equation}\\label{eq:4}\n",
    "f_{2}=(-ch^2+bh-1)f_0-(2+bh)f_1\n",
    "\\end{equation}\n",
    "después de n iteraciones:\n",
    "\\begin{equation}\\label{eq:5}\n",
    "f_{n+2}=(-ch^2+bh-1)f_n-(2+bh)f_{n+1}\n",
    "\\end{equation}\n",
    "Observamos que esta ecuación requiere el valor de $f_{n+1}$ para hallar $f_{n+2}$, entonces se requiere hallar  $f_{1}$ mediante las diferencias finitas sobre la primera derivada:\n",
    "\\begin{equation}\\label{eq:6}\n",
    "f_{1}=hf'_{0}+f_0\n",
    "\\end{equation}\n",
    "En conclusión para hallar todos los valores de f necesitamos resolver a la vez \\ref{eq:5} y  \\ref{eq:6}."
   ]
  },
  {
   "cell_type": "markdown",
   "metadata": {},
   "source": [
    "### Calcula el término:\n",
    "\\begin{equation}\\label{eq:6}\n",
    "f_{1}=hf'_{0}+f_0\n",
    "\\end{equation}"
   ]
  },
  {
   "cell_type": "code",
   "execution_count": 18,
   "metadata": {},
   "outputs": [],
   "source": [
    "def f1(f_0,fd_0,h):\n",
    "    return f_0+h*fd_0"
   ]
  },
  {
   "cell_type": "markdown",
   "metadata": {},
   "source": [
    "### Diferencia finita"
   ]
  },
  {
   "cell_type": "code",
   "execution_count": 35,
   "metadata": {},
   "outputs": [],
   "source": [
    "def finite(x_0,f_0,fd_0,b,c,n_max,h=0.1):\n",
    "    f=[]\n",
    "    f=np.append(f,f_0)\n",
    "    f=np.append(f,f1(x_0,f_0,h))\n",
    "    for n in range(n_max+1):\n",
    "        f=np.append(f,(-c*h**2+b*h-1)*f[n-2]-(2+b*h)*f[n-1])\n",
    "    return f"
   ]
  },
  {
   "cell_type": "code",
   "execution_count": 44,
   "metadata": {},
   "outputs": [
    {
     "name": "stdout",
     "output_type": "stream",
     "text": [
      "[ 1.00000000e+00  1.00000000e-01 -1.12000000e+00 -1.08080000e+00\n",
      " -1.12000000e+00  2.26100000e+00  3.28888000e+00  3.33552800e+00\n",
      " -3.72890000e+00 -8.96415800e+00 -9.99748960e+00  4.79535952e+00\n",
      "  2.22180308e+01  2.91521119e+01 -9.72539456e-01 -5.10216418e+01\n",
      " -8.14378431e+01 -2.44860890e+01  1.08030459e+02  2.17449165e+02\n",
      "  1.25529224e+02 -2.04581622e+02 -5.54950963e+02]\n"
     ]
    }
   ],
   "source": [
    "#condiciones iniciales:\n",
    "x_0=0\n",
    "f_0=1\n",
    "fd_0=2\n",
    "b=1# amortiguamiento de la ecuación\n",
    "c=1#frecuencia angular al cuadrado\n",
    "n_max=20 # número máximo de iteraciones\n",
    "h=0.1 #paso de incremento de la variable x; presición\n",
    "y=finite(x_0,f_0,fd_0,a,b,n_max,h)\n",
    "print(y)"
   ]
  },
  {
   "cell_type": "code",
   "execution_count": 47,
   "metadata": {},
   "outputs": [
    {
     "ename": "AttributeError",
     "evalue": "module 'matplotlib' has no attribute 'plot'",
     "output_type": "error",
     "traceback": [
      "\u001b[0;31m---------------------------------------------------------------------------\u001b[0m",
      "\u001b[0;31mAttributeError\u001b[0m                            Traceback (most recent call last)",
      "\u001b[0;32m<ipython-input-47-b93240936330>\u001b[0m in \u001b[0;36m<module>\u001b[0;34m\u001b[0m\n\u001b[1;32m      1\u001b[0m \u001b[0mx\u001b[0m\u001b[0;34m=\u001b[0m\u001b[0mnp\u001b[0m\u001b[0;34m.\u001b[0m\u001b[0mlinspace\u001b[0m\u001b[0;34m(\u001b[0m\u001b[0mx_0\u001b[0m\u001b[0;34m,\u001b[0m\u001b[0mx_0\u001b[0m\u001b[0;34m+\u001b[0m\u001b[0mn_max\u001b[0m\u001b[0;34m*\u001b[0m\u001b[0mh\u001b[0m\u001b[0;34m,\u001b[0m\u001b[0mn_max\u001b[0m\u001b[0;34m)\u001b[0m\u001b[0;34m\u001b[0m\u001b[0;34m\u001b[0m\u001b[0m\n\u001b[0;32m----> 2\u001b[0;31m \u001b[0mplt\u001b[0m\u001b[0;34m.\u001b[0m\u001b[0mplot\u001b[0m\u001b[0;34m(\u001b[0m\u001b[0mx\u001b[0m\u001b[0;34m,\u001b[0m\u001b[0my\u001b[0m\u001b[0;34m)\u001b[0m\u001b[0;34m\u001b[0m\u001b[0;34m\u001b[0m\u001b[0m\n\u001b[0m",
      "\u001b[0;31mAttributeError\u001b[0m: module 'matplotlib' has no attribute 'plot'"
     ]
    }
   ],
   "source": [
    "x=np.linspace(x_0,x_0+n_max*h,n_max)\n",
    "plt.plot(x,y)"
   ]
  },
  {
   "cell_type": "code",
   "execution_count": null,
   "metadata": {},
   "outputs": [],
   "source": []
  }
 ],
 "metadata": {
  "kernelspec": {
   "display_name": "Python 3",
   "language": "python",
   "name": "python3"
  },
  "language_info": {
   "codemirror_mode": {
    "name": "ipython",
    "version": 3
   },
   "file_extension": ".py",
   "mimetype": "text/x-python",
   "name": "python",
   "nbconvert_exporter": "python",
   "pygments_lexer": "ipython3",
   "version": "3.7.4"
  }
 },
 "nbformat": 4,
 "nbformat_minor": 2
}

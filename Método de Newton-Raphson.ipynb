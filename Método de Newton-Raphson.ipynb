{
 "cells": [
  {
   "cell_type": "markdown",
   "metadata": {},
   "source": [
    "# <center>Solución Puntos Prueba de Conocimientos</center>\n",
    "Nombre: John Erick Cabrera Ramirez"
   ]
  },
  {
   "cell_type": "markdown",
   "metadata": {},
   "source": [
    "# 1) Método de Newton-Raphson"
   ]
  },
  {
   "cell_type": "markdown",
   "metadata": {},
   "source": [
    "## En esta primera parte importamos las librerías que necesitaremos"
   ]
  },
  {
   "cell_type": "code",
   "execution_count": 82,
   "metadata": {},
   "outputs": [],
   "source": [
    "import numpy as np\n",
    "import matplotlib.pyplot as plt "
   ]
  },
  {
   "cell_type": "markdown",
   "metadata": {},
   "source": [
    "* El siguiente comando es para numerar ecuaciones"
   ]
  },
  {
   "cell_type": "code",
   "execution_count": 83,
   "metadata": {},
   "outputs": [
    {
     "data": {
      "application/javascript": [
       "MathJax.Hub.Config({\n",
       "    TeX: { equationNumbers: { autoNumber: \"AMS\" } }\n",
       "});\n"
      ],
      "text/plain": [
       "<IPython.core.display.Javascript object>"
      ]
     },
     "metadata": {},
     "output_type": "display_data"
    }
   ],
   "source": [
    "%%javascript\n",
    "MathJax.Hub.Config({\n",
    "    TeX: { equationNumbers: { autoNumber: \"AMS\" } }\n",
    "});"
   ]
  },
  {
   "cell_type": "code",
   "execution_count": 113,
   "metadata": {},
   "outputs": [],
   "source": [
    "#para guardar figuras con latex\n",
    "from matplotlib import rc\n",
    "plt.rc('text', usetex=True)\n",
    "import seaborn as sns\n",
    "plt.style.use('seaborn-poster')\n",
    "sns.set_context(\"poster\")"
   ]
  },
  {
   "cell_type": "markdown",
   "metadata": {},
   "source": [
    "## Explicación del Método"
   ]
  },
  {
   "cell_type": "markdown",
   "metadata": {},
   "source": [
    "El método de Newton Raphson es uno de los métodos numéricos utilizados para encontrar las raíces de una función o de un conjunto de puntos dado. Este método se basa en la aproximación de la derivada de una función a su recta secante. Por ejemplo, si queremos hallar la derivada numérica de la función $f(x)$ en el punto $x=x_0$ la aproximación toma la forma:\n",
    "\\begin{equation}\\label{eq:1}\n",
    "\\frac{\\mathrm{d}f}{\\mathrm{d}x}\\approx\\frac{f(x)-f(x_0)}{x-x_0}\n",
    "\\end{equation}\n",
    "En este caso es de nuestro interés hallar los ceros de una función o un conjunto de puntos, es decir, queremos hallar un valor $x^{*}$ tal que:\n",
    "\\begin{equation} \\label{eq:2}\n",
    "f(x^{*})=0\n",
    "\\end{equation}\n",
    "Para encontrar el valor de $x^{*}$ que cumple esta condición vamos a reemplazar esta condición en la \\ref{eq:1} y despejamos $x^{*}$:\n",
    "\\begin{equation}\\label{eq:3}\n",
    "f'(x)\\approx\\frac{f(x)-0}{x-x_0}\n",
    "\\end{equation}\n",
    "Despejando $x^{*}$:\n",
    "\\begin{equation}\\label{eq:4}\n",
    "x^{*}\\approx x-\\frac{f(x)}{f'(x)}\n",
    "\\end{equation}\n",
    "Si conocemos un valor inicial $x_0$ y su derivada  $f'(x_0)$, el cual esperamos se encuentre cerca al cero, entonces podemos hallar una aproximación al valor correcto de $x^{*}$, llamemos al valor de la aproximación $x_1$, entonces:\n",
    "\\begin{equation}\\label{eq:5}\n",
    "x_1=x_0-\\frac{f(x_0)}{f'(x_0)}\n",
    "\\end{equation}\n",
    "Este nuevo valor de $x_1$ da una nueva aproximación de $x^{*}$ que es mejor que $x_0$. Si ahora reemplazamos este valor en la aproximación \\ref{eq:3}, obtendremos otro valor más cercano a $x^{*}$:\n",
    "\\begin{equation}\\label{eq:6}\n",
    "x_2=x_1-\\frac{f(x_1)}{f'(x_1)}\n",
    "\\end{equation}\n",
    "Iterando $n$ veces este procedimiento se llegará a un mejor estimativo de uno de los ceros de la función f(x):\n",
    "\\begin{equation}\\label{eq:7}\n",
    "x_{n+1}=x_{n}-\\frac{f(x_n)}{f'(x_n)}\n",
    "\\end{equation}"
   ]
  },
  {
   "cell_type": "markdown",
   "metadata": {},
   "source": [
    "## Implementación del Método"
   ]
  },
  {
   "cell_type": "markdown",
   "metadata": {},
   "source": [
    "* definimos nuestra función de ejemplo"
   ]
  },
  {
   "cell_type": "code",
   "execution_count": 84,
   "metadata": {},
   "outputs": [],
   "source": [
    "def f(x):\n",
    "    return (x+2)*(x-2)*(x-4)"
   ]
  },
  {
   "cell_type": "markdown",
   "metadata": {},
   "source": [
    "* Si lo deseas puedes usar el módulo de sympy para hallar la derivada algebraica de una función o hacerlo manualmente"
   ]
  },
  {
   "cell_type": "code",
   "execution_count": 85,
   "metadata": {
    "scrolled": true
   },
   "outputs": [
    {
     "data": {
      "text/latex": [
       "$\\displaystyle \\left(X - 4\\right) \\left(X - 2\\right) + \\left(X - 4\\right) \\left(X + 2\\right) + \\left(X - 2\\right) \\left(X + 2\\right)$"
      ],
      "text/plain": [
       "(X - 4)*(X - 2) + (X - 4)*(X + 2) + (X - 2)*(X + 2)"
      ]
     },
     "execution_count": 85,
     "metadata": {},
     "output_type": "execute_result"
    }
   ],
   "source": [
    "import sympy as sp\n",
    "X, Y, Z = sp.symbols('X Y Z')\n",
    "sp.diff((X+2)*(X-2)*(X-4),X)"
   ]
  },
  {
   "cell_type": "markdown",
   "metadata": {},
   "source": [
    "* definimos la derivada de nuestra función "
   ]
  },
  {
   "cell_type": "code",
   "execution_count": 86,
   "metadata": {},
   "outputs": [],
   "source": [
    "def f_d(x):\n",
    "    return (x-4)*(x-2)+(x-4)*(x+2)+(x-2)*(x+2)"
   ]
  },
  {
   "cell_type": "markdown",
   "metadata": {},
   "source": [
    "## Definimos la iteracion del método de Newton según la ecuación (7)"
   ]
  },
  {
   "cell_type": "code",
   "execution_count": 87,
   "metadata": {},
   "outputs": [],
   "source": [
    "def iteracion(x):\n",
    "    return x-f(x)/f_d(x)"
   ]
  },
  {
   "cell_type": "markdown",
   "metadata": {},
   "source": [
    "## Opción 1: Con nuestra intuición adivinamos las raices de la función que tenemos"
   ]
  },
  {
   "cell_type": "markdown",
   "metadata": {},
   "source": [
    "### definimos la función que calcula la aproximación a la raíz o cero por el método newton-raphson dada la aproximación inicial y el número máximo de iteraciones deseadas.\n",
    "Observemos la importancia del for y de la variable temporal $x_{tmp}$ para guardar el valor siguiente de la iteracion (resultado de la función iteracion) en el valor de la variable temporal."
   ]
  },
  {
   "cell_type": "code",
   "execution_count": 88,
   "metadata": {},
   "outputs": [],
   "source": [
    "def newton(x_0,n_max):\n",
    "    x_tmp=x_0\n",
    "    for n in range(n_max+1):\n",
    "        x_tmp=iteracion(x_tmp)\n",
    "        #imprime cada valor que se obtenga en la iteracion\n",
    "        print(\"x_{}={}\".format(n,x_tmp))\n",
    "    return x_tmp"
   ]
  },
  {
   "cell_type": "code",
   "execution_count": 89,
   "metadata": {},
   "outputs": [],
   "source": [
    "ceros=[]"
   ]
  },
  {
   "cell_type": "code",
   "execution_count": 90,
   "metadata": {},
   "outputs": [],
   "source": [
    "# Primer valor intuido de x_0"
   ]
  },
  {
   "cell_type": "code",
   "execution_count": 91,
   "metadata": {},
   "outputs": [
    {
     "name": "stdout",
     "output_type": "stream",
     "text": [
      "x_0=1.9823336968375136\n",
      "x_1=1.9999240161229848\n",
      "x_2=1.9999999985567771\n",
      "x_3=2.0\n",
      "x_4=2.0\n",
      "x_5=2.0\n"
     ]
    }
   ],
   "source": [
    "x_0=1.1\n",
    "n_max=5\n",
    "ceros.append(newton(x_0,n_max))"
   ]
  },
  {
   "cell_type": "code",
   "execution_count": 92,
   "metadata": {},
   "outputs": [],
   "source": [
    "# Segundo valor intuido de x_0"
   ]
  },
  {
   "cell_type": "code",
   "execution_count": 93,
   "metadata": {
    "scrolled": true
   },
   "outputs": [
    {
     "name": "stdout",
     "output_type": "stream",
     "text": [
      "x_0=-2.25531914893617\n",
      "x_1=-2.0233829550564457\n",
      "x_2=-2.0002244933798234\n",
      "x_3=-2.0000000209958806\n",
      "x_4=-2.0\n",
      "x_5=-2.0\n"
     ]
    }
   ],
   "source": [
    "x_0=-3\n",
    "n_max=5\n",
    "ceros.append(newton(x_0,n_max))"
   ]
  },
  {
   "cell_type": "code",
   "execution_count": 94,
   "metadata": {},
   "outputs": [],
   "source": [
    "# Tercer valor intuido de x_0"
   ]
  },
  {
   "cell_type": "code",
   "execution_count": 95,
   "metadata": {},
   "outputs": [
    {
     "name": "stdout",
     "output_type": "stream",
     "text": [
      "x_0=4.857142857142858\n",
      "x_1=4.255639097744361\n",
      "x_2=4.034152889374028\n",
      "x_3=4.0007498862879505\n",
      "x_4=4.000000374581999\n",
      "x_5=4.000000000000093\n"
     ]
    }
   ],
   "source": [
    "x_0=6\n",
    "n_max=5\n",
    "ceros.append(newton(x_0,n_max))"
   ]
  },
  {
   "cell_type": "markdown",
   "metadata": {},
   "source": [
    "# Imprimimos las tres raices encontradas:"
   ]
  },
  {
   "cell_type": "code",
   "execution_count": 100,
   "metadata": {},
   "outputs": [
    {
     "data": {
      "text/plain": [
       "[2.0, -2.0, 4.000000000000093]"
      ]
     },
     "execution_count": 100,
     "metadata": {},
     "output_type": "execute_result"
    }
   ],
   "source": [
    "ceros"
   ]
  },
  {
   "cell_type": "markdown",
   "metadata": {},
   "source": [
    "## Graficamos los ceros"
   ]
  },
  {
   "cell_type": "code",
   "execution_count": 110,
   "metadata": {},
   "outputs": [],
   "source": [
    "x=np.linspace(-20,19,40)\n",
    "y_ceros=[]\n",
    "for i in range(len(ceros)):\n",
    "    y_ceros.append(f(ceros[i]))"
   ]
  },
  {
   "cell_type": "code",
   "execution_count": 115,
   "metadata": {},
   "outputs": [
    {
     "data": {
      "text/plain": [
       "<matplotlib.legend.Legend at 0x7f19c58fdf90>"
      ]
     },
     "execution_count": 115,
     "metadata": {},
     "output_type": "execute_result"
    },
    {
     "data": {
      "image/png": "[encoded data removed]",
      "text/plain": [
       "<Figure size 576x576 with 1 Axes>"
      ]
     },
     "metadata": {
      "needs_background": "light"
     },
     "output_type": "display_data"
    }
   ],
   "source": [
    "\n",
    "plt.figure(figsize=(8,8))\n",
    "#Gráfica:\n",
    "plt.plot(x,f(x),color='tab:olive',label=\"Polinomio\")\n",
    "plt.scatter(ceros,y_ceros,label=\"Ceros\")\n",
    "plt.xlabel(\"$x$\")#Etiquetas de los ejes en latex\n",
    "plt.ylabel(\"$y$\") #Etiquetas de los ejes en latex\n",
    "plt.legend(loc=(1.1/1,2./4)) #Para colocar la leyenda"
   ]
  },
  {
   "cell_type": "code",
   "execution_count": null,
   "metadata": {},
   "outputs": [],
   "source": []
  }
 ],
 "metadata": {
  "kernelspec": {
   "display_name": "Python 3",
   "language": "python",
   "name": "python3"
  },
  "language_info": {
   "codemirror_mode": {
    "name": "ipython",
    "version": 3
   },
   "file_extension": ".py",
   "mimetype": "text/x-python",
   "name": "python",
   "nbconvert_exporter": "python",
   "pygments_lexer": "ipython3",
   "version": "3.7.4"
  }
 },
 "nbformat": 4,
 "nbformat_minor": 2
}
